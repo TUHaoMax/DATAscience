{
 "cells": [
  {
   "cell_type": "code",
   "execution_count": 249,
   "metadata": {},
   "outputs": [],
   "source": [
    "from urllib.request import urlopen\n",
    "from urllib.parse import urlparse\n",
    "from bs4 import BeautifulSoup\n",
    "import datetime\n",
    "import random\n",
    "import re\n",
    "from urllib.request import urlopen\n",
    "from urllib.error import HTTPError\n",
    "from urllib.error import URLError\n",
    "import requests\n",
    "import re\n",
    "import py2neo as neo\n",
    "import pandas as pd\n",
    "import numpy as np\n",
    "import random"
   ]
  },
  {
   "cell_type": "code",
   "execution_count": 250,
   "metadata": {},
   "outputs": [],
   "source": [
    "Group=[[] for _ in range(10)]\n",
    "teams=[[] for _ in range(10)]\n",
    "country=[[] for _ in range(10)]"
   ]
  },
  {
   "cell_type": "code",
   "execution_count": 251,
   "metadata": {},
   "outputs": [],
   "source": [
    "def creat_seasons_link(i):\n",
    "    year=2021-i\n",
    "    if year<=2007:\n",
    "        year=year-1\n",
    "    return (\"https://www.uefa.com/uefachampionsleague/history/seasons/\"+str(year)+\"/\")\n",
    "    "
   ]
  },
  {
   "cell_type": "code",
   "execution_count": 252,
   "metadata": {},
   "outputs": [],
   "source": [
    "def get_nation(link):\n",
    "    link=\"https://www.uefa.com\"+link\n",
    "    html = urlopen(link)\n",
    "    bs = BeautifulSoup(html, 'html.parser')\n",
    "    return bs.find(\"span\",{'class': 'team-country-name'}).get_text()"
   ]
  },
  {
   "cell_type": "code",
   "execution_count": 253,
   "metadata": {},
   "outputs": [],
   "source": [
    "def get_seasons(link,i):\n",
    "    print(link)\n",
    "    print(i)\n",
    "    html = urlopen(link)\n",
    "    bs = BeautifulSoup(html, 'html.parser')\n",
    "    divs=bs.findAll(\"div\",{'class': 'carousel-item'})\n",
    "    for data in divs:\n",
    "        Group[i].append(data.find(\"p\").get_text().split(\"L\")[0])\n",
    "        for a in data.findAll(\"a\",{'class':'table_team-name_block'}):\n",
    "            country[i].append(get_nation(a.get(\"href\")) )\n",
    "        for span in data.findAll(\"span\",{'class':'team-name js-team-name'}):\n",
    "            teams[i].append(span.get_text().split(\"Playing now\")[0])\n",
    "    "
   ]
  },
  {
   "cell_type": "code",
   "execution_count": 254,
   "metadata": {},
   "outputs": [
    {
     "name": "stdout",
     "output_type": "stream",
     "text": [
      "https://www.uefa.com/uefachampionsleague/history/seasons/2021/\n",
      "0\n",
      "https://www.uefa.com/uefachampionsleague/history/seasons/2020/\n",
      "1\n",
      "https://www.uefa.com/uefachampionsleague/history/seasons/2019/\n",
      "2\n",
      "https://www.uefa.com/uefachampionsleague/history/seasons/2018/\n",
      "3\n",
      "https://www.uefa.com/uefachampionsleague/history/seasons/2017/\n",
      "4\n",
      "https://www.uefa.com/uefachampionsleague/history/seasons/2016/\n",
      "5\n",
      "https://www.uefa.com/uefachampionsleague/history/seasons/2015/\n",
      "6\n",
      "https://www.uefa.com/uefachampionsleague/history/seasons/2014/\n",
      "7\n"
     ]
    }
   ],
   "source": [
    "for i in range(0,8):\n",
    "    get_seasons(creat_seasons_link(i),i)"
   ]
  },
  {
   "cell_type": "code",
   "execution_count": 255,
   "metadata": {},
   "outputs": [],
   "source": [
    "def retest(text):\n",
    "    text=text.replace(\".\",\"\")\n",
    "    return re.sub(r'[^A-Za-z0-9]',\" \",text).strip()"
   ]
  },
  {
   "cell_type": "code",
   "execution_count": 256,
   "metadata": {},
   "outputs": [],
   "source": [
    "for n in range(0,8):\n",
    "    for i in range(0,len(Group[n])):\n",
    "        Group[n][i]=retest(Group[n][i])\n",
    "\n",
    "    for i in range(0,len(teams[n])):\n",
    "        teams[n][i]=retest(teams[n][i])\n",
    "\n",
    "    for i in range(0,len(country[n])):\n",
    "        country[n][i]=retest(country[n][i]) \n"
   ]
  },
  {
   "cell_type": "code",
   "execution_count": 260,
   "metadata": {},
   "outputs": [
    {
     "data": {
      "text/plain": [
       "10"
      ]
     },
     "execution_count": 260,
     "metadata": {},
     "output_type": "execute_result"
    }
   ],
   "source": [
    "#country[1]\n",
    "len(teams)"
   ]
  },
  {
   "cell_type": "code",
   "execution_count": 261,
   "metadata": {},
   "outputs": [],
   "source": [
    "spans_team=[[] for _ in range(10)]\n",
    "spans_HS=[[] for _ in range(10)]\n",
    "spans_AS=[[] for _ in range(10)]\n",
    "match_count=[[] for _ in range(10)]"
   ]
  },
  {
   "cell_type": "code",
   "execution_count": 262,
   "metadata": {},
   "outputs": [],
   "source": [
    "for n in range(0,8):\n",
    "    match_count[n].append( int (len(teams[n])/4*12) ) \n",
    "    team_count= int( len(teams[n])/4*2 )\n",
    "    while team_count!=2:\n",
    "        match_count[n][0]=match_count[n][0]+team_count\n",
    "        team_count=team_count/2\n",
    "    match_count[n][0]= int (match_count[n][0]+1)\n",
    "    "
   ]
  },
  {
   "cell_type": "code",
   "execution_count": 264,
   "metadata": {},
   "outputs": [],
   "source": [
    "def creat_match_link(year,indx):\n",
    "    return (\"https://www.uefa.com/uefachampionsleague/history/seasons/\"\n",
    "           +year\n",
    "           +\"/matches/libraries/matches-by-team/index_\"\n",
    "           +str(indx))"
   ]
  },
  {
   "cell_type": "code",
   "execution_count": 265,
   "metadata": {},
   "outputs": [],
   "source": [
    "def get_Data(link,n):\n",
    "    #print(link)\n",
    "    html = urlopen(link)\n",
    "    bs = BeautifulSoup(html, 'html.parser')\n",
    "    spans_team[n].extend(bs.findAll(\"span\",{'class': 'js-fitty'}))\n",
    "    spans_HS[n].extend(bs.findAll(\"span\",{'class': 'js-team--home-score home-score'}))\n",
    "    spans_AS[n].extend(bs.findAll(\"span\",{'class': 'js-team--away-score away-score'}))  "
   ]
  },
  {
   "cell_type": "code",
   "execution_count": 266,
   "metadata": {},
   "outputs": [],
   "source": [
    "for n in range(0,8):\n",
    "    year=2021-n\n",
    "    if year<=2007:\n",
    "        year=year-1\n",
    "    for i in range(0,3):\n",
    "        get_Data(creat_match_link(str(year),i),n)    \n"
   ]
  },
  {
   "cell_type": "code",
   "execution_count": 267,
   "metadata": {},
   "outputs": [],
   "source": [
    "match=[[] for _ in range(10)]\n",
    "n=0"
   ]
  },
  {
   "cell_type": "code",
   "execution_count": 268,
   "metadata": {},
   "outputs": [],
   "source": [
    "for x in range(0,8):\n",
    "    n=0\n",
    "    for i in range(0, int(match_count[x][0]) ):\n",
    "        if int(spans_HS[x][i].get_text())>int(spans_AS[x][i].get_text()):\n",
    "            match[x].append(retest(spans_team[x][n].get_text()) \n",
    "                 +\"# #\"\n",
    "                 +retest(spans_HS[x][i].get_text())\n",
    "                 +\"-\"\n",
    "                 +retest(spans_AS[x][i].get_text())\n",
    "                 +\"# #\"\n",
    "                 +retest(spans_team[x][n+1].get_text())\n",
    "                 +\"# #\"+retest(spans_team[x][n].get_text()) )\n",
    "        elif int(spans_HS[x][i].get_text())<int(spans_AS[x][i].get_text()):\n",
    "            match[x].append(retest(spans_team[x][n].get_text()) \n",
    "                 +\"# #\"\n",
    "                 +retest(spans_HS[x][i].get_text())\n",
    "                 +\"-\"\n",
    "                 +retest(spans_AS[x][i].get_text())\n",
    "                 +\"# #\"\n",
    "                 +retest(spans_team[x][n+1].get_text())\n",
    "                 +\"# #\"+retest(spans_team[x][n+1].get_text()) )\n",
    "        elif int(spans_HS[x][i].get_text())==int(spans_AS[x][i].get_text()):\n",
    "            match[x].append(retest(spans_team[x][n].get_text()) \n",
    "                 +\"# #\"\n",
    "                 +retest(spans_HS[x][i].get_text())\n",
    "                 +\"-\"\n",
    "                 +retest(spans_AS[x][i].get_text())\n",
    "                 +\"# #\"\n",
    "                 +retest(spans_team[x][n+1].get_text())\n",
    "                 +\"# #\"+\" X\" )\n",
    "        n=n+2 "
   ]
  },
  {
   "cell_type": "code",
   "execution_count": 299,
   "metadata": {},
   "outputs": [
    {
     "data": {
      "text/plain": [
       "[]"
      ]
     },
     "execution_count": 299,
     "metadata": {},
     "output_type": "execute_result"
    }
   ],
   "source": [
    "match[8]"
   ]
  },
  {
   "cell_type": "code",
   "execution_count": 275,
   "metadata": {},
   "outputs": [],
   "source": [
    "#db.delete_all()"
   ]
  },
  {
   "cell_type": "code",
   "execution_count": 329,
   "metadata": {},
   "outputs": [],
   "source": [
    "db=neo.Graph(\"neo4j+s://52d54f1d.databases.neo4j.io\",\n",
    "    auth=(\"neo4j\",\"cUQmozgEst1IHWWMmbpPgPiRExkAYWk-qSZdKYcALwA\"))"
   ]
  },
  {
   "cell_type": "code",
   "execution_count": 301,
   "metadata": {},
   "outputs": [],
   "source": [
    "def create_node(team_nodes,country_nodes,type):\n",
    "    for n in range(0,len(team_nodes)):\n",
    "        if check_teams(team_nodes[n])==0:\n",
    "            db.create(neo.Node(type,name=team_nodes[n],country=country_nodes[n]))\n",
    "\n",
    "def check_teams(name_node):\n",
    "    node_matcher = neo.NodeMatcher(db)\n",
    "    node=node_matcher.match(\"Teams\",name=name_node)\n",
    "    node=list(node)\n",
    "    if len(node):\n",
    "        return 1\n",
    "    else:\n",
    "        return 0\n",
    "\n",
    "\n",
    "for i in range(0,8):\n",
    "    create_node(teams[i],country[i],\"Teams\")"
   ]
  },
  {
   "cell_type": "code",
   "execution_count": 302,
   "metadata": {},
   "outputs": [],
   "source": [
    "def create_league(n):\n",
    "    year=2021-n\n",
    "    db.create(neo.Node(\"Champion league\",year=year))\n",
    "\n",
    "for n in range(0,8):\n",
    "    create_league(n)"
   ]
  },
  {
   "cell_type": "code",
   "execution_count": 330,
   "metadata": {},
   "outputs": [],
   "source": [
    "node_matcher = neo.NodeMatcher(db)\n",
    "nodes_Teams=node_matcher.match(\"Teams\")\n",
    "nodes_Teams=list(nodes_Teams)\n",
    "nodes_Cleagues=node_matcher.match(\"Champion league\")\n",
    "nodes_Cleagues=list(nodes_Cleagues)"
   ]
  },
  {
   "cell_type": "code",
   "execution_count": 304,
   "metadata": {},
   "outputs": [],
   "source": [
    "R_participate=neo.Relationship.type(\"participate\")\n",
    "for n in range(0,len(nodes_Cleagues)):\n",
    "    for T_node in nodes_Teams:\n",
    "        if T_node[\"name\"] in teams[n]:\n",
    "            db.create(R_participate(nodes_Cleagues[n],T_node))"
   ]
  },
  {
   "cell_type": "code",
   "execution_count": 305,
   "metadata": {},
   "outputs": [],
   "source": [
    "R_match=neo.Relationship.type(\"match\")\n",
    "for n in range(0,len(nodes_Cleagues)):\n",
    "    for M in match[n]:\n",
    "        GD= abs(int(M.split(\"# #\")[1].split(\"-\")[0])-int(M.split(\"# #\")[1].split(\"-\")[1]))\n",
    "        proper={\"general\":M,'score': M.split(\"# #\")[1],\"winner\":M.split(\"# #\")[3],\"GD\":\tGD}\n",
    "        for node in nodes_Teams:\n",
    "            if node[\"name\"]==M.split(\"# #\")[0]:\n",
    "                H_T=node\n",
    "            elif node[\"name\"]==M.split(\"# #\")[2]:\n",
    "                A_T=node\n",
    "        db.create(R_match(H_T,A_T,**proper))"
   ]
  },
  {
   "cell_type": "code",
   "execution_count": 343,
   "metadata": {},
   "outputs": [],
   "source": [
    "for n in range(0,len(nodes_Cleagues)):\n",
    "    for M in range(0,len(match[n])):\n",
    "        if M==0:\n",
    "            nodes_Cleagues[n][\"champion\"]=match[n][M].split(\"# #\")[3]\n",
    "            db.push(nodes_Cleagues[n])\n",
    "        elif M>0 and M<=4:\n",
    "            nodes_Cleagues[n][\"Semi-finals\"]=nodes_Cleagues[n][\"Semi-finals\"]+\"-\"+match[n][M].split(\"# #\")[0]\n",
    "            db.push(nodes_Cleagues[n]) \n",
    "        elif M>4 and M<=12:\n",
    "            nodes_Cleagues[n][\"Quarter-finals\"]=nodes_Cleagues[n][\"Quarter-finals\"]+\"-\"+match[n][M].split(\"# #\")[0]\n",
    "            db.push(nodes_Cleagues[n])\n",
    "        elif M>12 and M<=28:\n",
    "            nodes_Cleagues[n][\"Round of 16\"]=nodes_Cleagues[n][\"Round of 16\"]+\"-\"+match[n][M].split(\"# #\")[0]\n",
    "            db.push(nodes_Cleagues[n])\n",
    "            \n",
    "nodes_Cleagues[5][\"champion\"]=\"Real Madrid\"\n",
    "db.push(nodes_Cleagues[5])\n"
   ]
  },
  {
   "cell_type": "code",
   "execution_count": 342,
   "metadata": {},
   "outputs": [],
   "source": [
    "for n in range(0,len(nodes_Cleagues)):\n",
    "    nodes_Cleagues[n][\"Semi-finals\"]=\"\"\n",
    "    nodes_Cleagues[n][\"Quarter-finals\"]=\"\"\n",
    "    nodes_Cleagues[n][\"Round of 16\"]=\"\"\n",
    "    db.push(nodes_Cleagues[n])"
   ]
  },
  {
   "cell_type": "code",
   "execution_count": 308,
   "metadata": {},
   "outputs": [],
   "source": [
    "r_matcher = neo.RelationshipMatcher(db)"
   ]
  },
  {
   "cell_type": "code",
   "execution_count": 111,
   "metadata": {},
   "outputs": [],
   "source": [
    "#R_1"
   ]
  },
  {
   "cell_type": "code",
   "execution_count": 84,
   "metadata": {},
   "outputs": [],
   "source": [
    "#R_1[0].start_node['name'],R_1[0].end_node['year']"
   ]
  },
  {
   "cell_type": "code",
   "execution_count": 316,
   "metadata": {},
   "outputs": [
    {
     "data": {
      "text/plain": [
       "Node('Teams', country='GRE', name='Olympiacos')"
      ]
     },
     "execution_count": 316,
     "metadata": {},
     "output_type": "execute_result"
    }
   ],
   "source": [
    "nodes_Teams[40]"
   ]
  },
  {
   "cell_type": "code",
   "execution_count": 318,
   "metadata": {},
   "outputs": [],
   "source": [
    "R_1=r_matcher.match([nodes_Teams[40]],r_type=\"match\")\n",
    "R_1=list(R_1)"
   ]
  },
  {
   "cell_type": "code",
   "execution_count": 321,
   "metadata": {},
   "outputs": [
    {
     "data": {
      "text/plain": [
       "match(Node('Teams', country='GRE', name='Olympiacos'), Node('Teams', country='FRA', name='Paris'), GD=3, general='Olympiacos# #1-4# #Paris# #Paris', score='1-4', winner='Paris')"
      ]
     },
     "execution_count": 321,
     "metadata": {},
     "output_type": "execute_result"
    }
   ],
   "source": [
    "R_1[0]"
   ]
  }
 ],
 "metadata": {
  "interpreter": {
   "hash": "08ad81df79b4c78335c7dba8bc915ecd16ced78e3f64fc7dbc90055612e6416b"
  },
  "kernelspec": {
   "display_name": "Python 3.8.8 64-bit ('base': conda)",
   "language": "python",
   "name": "python3"
  },
  "language_info": {
   "codemirror_mode": {
    "name": "ipython",
    "version": 3
   },
   "file_extension": ".py",
   "mimetype": "text/x-python",
   "name": "python",
   "nbconvert_exporter": "python",
   "pygments_lexer": "ipython3",
   "version": "3.8.8"
  },
  "orig_nbformat": 4
 },
 "nbformat": 4,
 "nbformat_minor": 2
}
