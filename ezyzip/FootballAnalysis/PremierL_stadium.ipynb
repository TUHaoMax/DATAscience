{
 "cells": [
  {
   "cell_type": "code",
   "execution_count": 1,
   "metadata": {},
   "outputs": [],
   "source": [
    "from urllib.request import urlopen\n",
    "from urllib.parse import urlparse\n",
    "from bs4 import BeautifulSoup\n",
    "import datetime\n",
    "import random\n",
    "import re\n",
    "from urllib.request import urlopen\n",
    "from urllib.error import HTTPError\n",
    "from urllib.error import URLError\n",
    "import requests\n",
    "import re\n",
    "import py2neo as neo\n",
    "import pandas as pd\n",
    "import numpy as np\n",
    "import random"
   ]
  },
  {
   "cell_type": "code",
   "execution_count": 2,
   "metadata": {},
   "outputs": [],
   "source": [
    "db=neo.Graph(\"neo4j+s://52d54f1d.databases.neo4j.io\",\n",
    "    auth=(\"neo4j\",\"cUQmozgEst1IHWWMmbpPgPiRExkAYWk-qSZdKYcALwA\"))"
   ]
  },
  {
   "cell_type": "code",
   "execution_count": 3,
   "metadata": {},
   "outputs": [],
   "source": [
    "teams_20_21=[]\n",
    "teams_19_20=[]\n",
    "teams_18_19=[]\n",
    "teams_17_18=[]\n",
    "teams_16_17=[]\n",
    "teams_15_16=[]\n",
    "teams_14_15=[]\n",
    "teams_13_14=[]"
   ]
  },
  {
   "cell_type": "code",
   "execution_count": 4,
   "metadata": {},
   "outputs": [],
   "source": [
    "Data_20_21=[]\n",
    "Data_19_20=[]\n",
    "Data_18_19=[]\n",
    "Data_17_18=[]\n",
    "Data_16_17=[]\n",
    "Data_15_16=[]\n",
    "Data_14_15=[]\n",
    "Data_13_14=[]"
   ]
  },
  {
   "cell_type": "code",
   "execution_count": 5,
   "metadata": {},
   "outputs": [],
   "source": [
    "def get_teams(year):\n",
    "    html = urlopen(\"https://www.worldfootball.net/attendance/eng-premier-league-\"+year+\"/1/\")\n",
    "    bs = BeautifulSoup(html, 'html.parser')\n",
    "    teams=[]\n",
    "    table=bs.find(\"table\",{'class': 'standard_tabelle'})\n",
    "    for team in table.findAll(\"a\"):\n",
    "        teams.append(team.get_text())\n",
    "    teams=list(filter(None,teams)) \n",
    "    return teams"
   ]
  },
  {
   "cell_type": "code",
   "execution_count": 6,
   "metadata": {},
   "outputs": [],
   "source": [
    "def get_data(year):\n",
    "    html = urlopen(\"https://www.worldfootball.net/attendance/eng-premier-league-\"+year+\"/1/\")\n",
    "    bs = BeautifulSoup(html, 'html.parser')\n",
    "    Data=[]\n",
    "    table=bs.find(\"table\",{'class': 'standard_tabelle'})\n",
    "    for d in table.findAll(\"td\",{'align': 'right'}):\n",
    "        Data.append(d.get_text())\n",
    "    Data=list(filter(None,Data)) \n",
    "    return Data\n"
   ]
  },
  {
   "cell_type": "code",
   "execution_count": 7,
   "metadata": {},
   "outputs": [],
   "source": [
    "teams_20_21=get_teams(\"2020-2021\")\n",
    "teams_19_20=get_teams(\"2019-2020\")\n",
    "teams_18_19=get_teams(\"2018-2019\")\n",
    "teams_17_18=get_teams(\"2017-2018\")\n",
    "teams_16_17=get_teams(\"2016-2017\")\n",
    "teams_15_16=get_teams(\"2015-2016\")\n",
    "teams_14_15=get_teams(\"2014-2015\")\n",
    "teams_13_14=get_teams(\"2013-2014\")"
   ]
  },
  {
   "cell_type": "code",
   "execution_count": 8,
   "metadata": {},
   "outputs": [],
   "source": [
    "Data_20_21=get_data(\"2020-2021\")\n",
    "Data_19_20=get_data(\"2019-2020\")\n",
    "Data_18_19=get_data(\"2018-2019\")\n",
    "Data_17_18=get_data(\"2017-2018\")\n",
    "Data_16_17=get_data(\"2016-2017\")\n",
    "Data_15_16=get_data(\"2015-2016\")\n",
    "Data_14_15=get_data(\"2014-2015\")\n",
    "Data_13_14=get_data(\"2013-2014\")"
   ]
  },
  {
   "cell_type": "code",
   "execution_count": 9,
   "metadata": {},
   "outputs": [],
   "source": [
    "teams=list( set((teams_20_21)+\n",
    " (teams_19_20)+\n",
    " (teams_18_19)+\n",
    " (teams_17_18)+\n",
    " (teams_16_17)+\n",
    " (teams_15_16)+\n",
    " (teams_14_15)+\n",
    " (teams_13_14) ) )"
   ]
  },
  {
   "cell_type": "code",
   "execution_count": 10,
   "metadata": {},
   "outputs": [],
   "source": [
    "\n",
    "def create_node(nodes,type):\n",
    "    for node in nodes:\n",
    "        db.create(neo.Node(type,name=node))\n",
    "    \n"
   ]
  },
  {
   "cell_type": "code",
   "execution_count": 11,
   "metadata": {},
   "outputs": [],
   "source": [
    "create_node(teams,\"stadium\")"
   ]
  },
  {
   "cell_type": "code",
   "execution_count": 12,
   "metadata": {},
   "outputs": [],
   "source": [
    "node_matcher = neo.NodeMatcher(db)\n",
    "nodes_stadium=node_matcher.match(\"stadium\")\n",
    "nodes_stadium=list(nodes_stadium)"
   ]
  },
  {
   "cell_type": "code",
   "execution_count": 13,
   "metadata": {},
   "outputs": [],
   "source": [
    "def update_data(team_name,datas,year):\n",
    "    for node in nodes_stadium:\n",
    "        if node[\"name\"] in team_name:\n",
    "            i=team_name.index(node[\"name\"])\n",
    "            node[year+\"-sum/average\"]=datas[i*2]+\" / \"+datas[i*2+1]\n",
    "            db.push(node)\n",
    "         "
   ]
  },
  {
   "cell_type": "code",
   "execution_count": 14,
   "metadata": {},
   "outputs": [],
   "source": [
    "update_data(teams_20_21,Data_20_21,\"20/21\")\n",
    "update_data(teams_19_20,Data_19_20,\"19/20\")\n",
    "update_data(teams_18_19,Data_18_19,\"18/19\")\n",
    "update_data(teams_17_18,Data_17_18,\"17/18\")\n",
    "update_data(teams_16_17,Data_16_17,\"16/17\")\n",
    "update_data(teams_15_16,Data_15_16,\"15/17\")\n",
    "update_data(teams_14_15,Data_14_15,\"14/15\")\n",
    "update_data(teams_13_14,Data_13_14,\"13/14\")"
   ]
  },
  {
   "cell_type": "code",
   "execution_count": null,
   "metadata": {},
   "outputs": [],
   "source": []
  }
 ],
 "metadata": {
  "interpreter": {
   "hash": "67cab6de4bb7f28beceb6baf7a93915d039ccfca916a131ea354866f2840931f"
  },
  "kernelspec": {
   "display_name": "Python 3.8.6rc1 64-bit",
   "language": "python",
   "name": "python3"
  },
  "language_info": {
   "codemirror_mode": {
    "name": "ipython",
    "version": 3
   },
   "file_extension": ".py",
   "mimetype": "text/x-python",
   "name": "python",
   "nbconvert_exporter": "python",
   "pygments_lexer": "ipython3",
   "version": "3.8.8"
  },
  "orig_nbformat": 4
 },
 "nbformat": 4,
 "nbformat_minor": 2
}
