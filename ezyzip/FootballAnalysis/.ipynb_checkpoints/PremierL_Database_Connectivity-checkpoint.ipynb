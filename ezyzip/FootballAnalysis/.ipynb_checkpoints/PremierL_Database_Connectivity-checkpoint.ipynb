{
 "cells": [
  {
   "cell_type": "code",
   "execution_count": 2,
   "metadata": {},
   "outputs": [],
   "source": [
    "import py2neo as neo\n",
    "import pandas as pd\n",
    "pd.options.display.max_columns = None\n",
    "import matplotlib.pyplot as plt\n",
    "%matplotlib inline\n",
    "import numpy as np\n",
    "%reload_ext autoreload\n",
    "%autoreload 2\n",
    "import random"
   ]
  },
  {
   "cell_type": "code",
   "execution_count": 3,
   "metadata": {},
   "outputs": [],
   "source": [
    "db=neo.Graph(\"neo4j+s://52d54f1d.databases.neo4j.io\",\n",
    "    auth=(\"neo4j\",\"cUQmozgEst1IHWWMmbpPgPiRExkAYWk-qSZdKYcALwA\"))"
   ]
  },
  {
   "cell_type": "code",
   "execution_count": 4,
   "metadata": {},
   "outputs": [],
   "source": [
    "db.delete_all()"
   ]
  },
  {
   "cell_type": "code",
   "execution_count": 5,
   "metadata": {},
   "outputs": [],
   "source": [
    "df_prem_2021 = pd.read_csv(\"data/PremierLeague/PremierLeague_2021.csv\")\n",
    "df_prem_1920 = pd.read_csv(\"data/PremierLeague/PremierLeague_1920.csv\")\n",
    "df_prem_1819 = pd.read_csv(\"data/PremierLeague/PremierLeague_1819.csv\")\n",
    "df_prem_1718 = pd.read_csv(\"data/PremierLeague/PremierLeague_1718.csv\")\n",
    "df_prem_1617 = pd.read_csv(\"data/PremierLeague/PremierLeague_1617.csv\")\n",
    "df_prem_1516 = pd.read_csv(\"data/PremierLeague/PremierLeague_1516.csv\")\n",
    "df_prem_1415 = pd.read_csv(\"data/PremierLeague/PremierLeague_1415.csv\")\n",
    "df_prem_1314 = pd.read_csv(\"data/PremierLeague/PremierLeague_1314.csv\")\n",
    "#df_prem_2021"
   ]
  },
  {
   "cell_type": "code",
   "execution_count": 6,
   "metadata": {},
   "outputs": [],
   "source": [
    "prem_teams =( sorted(df_prem_2021['HomeTeam'].unique())+\n",
    " sorted(df_prem_1920['HomeTeam'].unique())+\n",
    " sorted(df_prem_1819['HomeTeam'].unique())+\n",
    " sorted(df_prem_1718['HomeTeam'].unique())+\n",
    " sorted(df_prem_1617['HomeTeam'].unique())+\n",
    " sorted(df_prem_1516['HomeTeam'].unique())+\n",
    " sorted(df_prem_1415['HomeTeam'].iloc[:-1].unique())+\n",
    " sorted(df_prem_1314['HomeTeam'].unique()))"
   ]
  },
  {
   "cell_type": "code",
   "execution_count": 8,
   "metadata": {},
   "outputs": [],
   "source": [
    "prem_teams=sorted(set(prem_teams))"
   ]
  },
  {
   "cell_type": "code",
   "execution_count": 9,
   "metadata": {},
   "outputs": [],
   "source": [
    "prem_teams_nodes=[]\n",
    "PremierLeague_Nodes=[]\n"
   ]
  },
  {
   "cell_type": "code",
   "execution_count": 10,
   "metadata": {},
   "outputs": [],
   "source": [
    "PremierLeague=[]\n",
    "for i in range(0,8):\n",
    "    PremierLeague.append(\"PremierLeague\"+\"-\"+str(20-i)+str(21-i))"
   ]
  },
  {
   "cell_type": "code",
   "execution_count": 11,
   "metadata": {},
   "outputs": [],
   "source": [
    "def C(nodes):\n",
    "    for n in nodes:\n",
    "        db.create(n)\n",
    "\n",
    "def create_node(nodes,type):\n",
    "    for node in nodes:\n",
    "        if type==\"Teams\":\n",
    "            prem_teams_nodes.append(neo.Node(type,name=node))\n",
    "        elif type==\"PremierLeague\":\n",
    "            PremierLeague_Nodes.append(neo.Node(type,name=node))\n",
    "    if type==\"Teams\":\n",
    "        C(prem_teams_nodes)\n",
    "    elif type==\"PremierLeague\":\n",
    "        C(PremierLeague_Nodes)\n",
    "\n",
    "            \n",
    "\n"
   ]
  },
  {
   "cell_type": "code",
   "execution_count": 12,
   "metadata": {},
   "outputs": [],
   "source": [
    "create_node(prem_teams,\"Teams\")"
   ]
  },
  {
   "cell_type": "code",
   "execution_count": 13,
   "metadata": {},
   "outputs": [],
   "source": [
    "create_node(PremierLeague,\"PremierLeague\")"
   ]
  },
  {
   "cell_type": "code",
   "execution_count": 14,
   "metadata": {},
   "outputs": [],
   "source": [
    "R_participate=neo.Relationship.type(\"participate\")"
   ]
  },
  {
   "cell_type": "code",
   "execution_count": 16,
   "metadata": {},
   "outputs": [],
   "source": [
    "def create_League_re(N,Leagues,Teams):\n",
    "    \n",
    "    for Lea in Leagues:\n",
    "        for Team in  Teams:\n",
    "            if Lea == Team[\"name\"]:\n",
    "                db.create(R_participate(Team,N))\n",
    "                \n"
   ]
  },
  {
   "cell_type": "code",
   "execution_count": 17,
   "metadata": {},
   "outputs": [],
   "source": [
    "create_League_re(PremierLeague_Nodes[0],\n",
    "df_prem_2021['HomeTeam'].unique(),prem_teams_nodes)\n",
    "create_League_re(PremierLeague_Nodes[1],\n",
    "df_prem_1920['HomeTeam'].unique(),prem_teams_nodes)\n",
    "create_League_re(PremierLeague_Nodes[2],\n",
    "df_prem_1819['HomeTeam'].unique(),prem_teams_nodes)\n",
    "create_League_re(PremierLeague_Nodes[3],\n",
    "df_prem_1718['HomeTeam'].unique(),prem_teams_nodes)\n",
    "create_League_re(PremierLeague_Nodes[4],\n",
    "df_prem_1617['HomeTeam'].unique(),prem_teams_nodes)\n",
    "create_League_re(PremierLeague_Nodes[5],\n",
    "df_prem_1516['HomeTeam'].unique(),prem_teams_nodes)\n",
    "create_League_re(PremierLeague_Nodes[6],\n",
    "df_prem_1415['HomeTeam'].unique(),prem_teams_nodes)\n",
    "create_League_re(PremierLeague_Nodes[7],\n",
    "df_prem_1314['HomeTeam'].unique(),prem_teams_nodes)"
   ]
  }
 ],
 "metadata": {
  "interpreter": {
   "hash": "67cab6de4bb7f28beceb6baf7a93915d039ccfca916a131ea354866f2840931f"
  },
  "kernelspec": {
   "display_name": "Python 3",
   "language": "python",
   "name": "python3"
  },
  "language_info": {
   "codemirror_mode": {
    "name": "ipython",
    "version": 3
   },
   "file_extension": ".py",
   "mimetype": "text/x-python",
   "name": "python",
   "nbconvert_exporter": "python",
   "pygments_lexer": "ipython3",
   "version": "3.8.5"
  }
 },
 "nbformat": 4,
 "nbformat_minor": 2
}
