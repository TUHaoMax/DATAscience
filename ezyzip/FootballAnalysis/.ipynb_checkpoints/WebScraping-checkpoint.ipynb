{
 "cells": [
  {
   "cell_type": "code",
   "execution_count": 1,
   "metadata": {},
   "outputs": [
    {
     "ename": "ModuleNotFoundError",
     "evalue": "No module named 'py2neo'",
     "output_type": "error",
     "traceback": [
      "\u001b[1;31m---------------------------------------------------------------------------\u001b[0m",
      "\u001b[1;31mModuleNotFoundError\u001b[0m                       Traceback (most recent call last)",
      "\u001b[1;32m<ipython-input-1-b69778dc1dd2>\u001b[0m in \u001b[0;36m<module>\u001b[1;34m\u001b[0m\n\u001b[0;32m      9\u001b[0m \u001b[1;32mfrom\u001b[0m \u001b[0murllib\u001b[0m\u001b[1;33m.\u001b[0m\u001b[0merror\u001b[0m \u001b[1;32mimport\u001b[0m \u001b[0mURLError\u001b[0m\u001b[1;33m\u001b[0m\u001b[1;33m\u001b[0m\u001b[0m\n\u001b[0;32m     10\u001b[0m \u001b[1;32mimport\u001b[0m \u001b[0mrequests\u001b[0m\u001b[1;33m\u001b[0m\u001b[1;33m\u001b[0m\u001b[0m\n\u001b[1;32m---> 11\u001b[1;33m \u001b[1;32mimport\u001b[0m \u001b[0mpy2neo\u001b[0m \u001b[1;32mas\u001b[0m \u001b[0mneo\u001b[0m\u001b[1;33m\u001b[0m\u001b[1;33m\u001b[0m\u001b[0m\n\u001b[0m\u001b[0;32m     12\u001b[0m \u001b[1;32mimport\u001b[0m \u001b[0mpandas\u001b[0m \u001b[1;32mas\u001b[0m \u001b[0mpd\u001b[0m\u001b[1;33m\u001b[0m\u001b[1;33m\u001b[0m\u001b[0m\n\u001b[0;32m     13\u001b[0m \u001b[1;32mimport\u001b[0m \u001b[0mnumpy\u001b[0m \u001b[1;32mas\u001b[0m \u001b[0mnp\u001b[0m\u001b[1;33m\u001b[0m\u001b[1;33m\u001b[0m\u001b[0m\n",
      "\u001b[1;31mModuleNotFoundError\u001b[0m: No module named 'py2neo'"
     ]
    }
   ],
   "source": [
    "from urllib.request import urlopen\n",
    "from urllib.parse import urlparse\n",
    "from bs4 import BeautifulSoup\n",
    "import datetime\n",
    "import random\n",
    "import re\n",
    "from urllib.request import urlopen\n",
    "from urllib.error import HTTPError\n",
    "from urllib.error import URLError\n",
    "import requests\n",
    "import py2neo as neo\n",
    "import pandas as pd\n",
    "import numpy as np\n",
    "import random"
   ]
  },
  {
   "cell_type": "code",
   "execution_count": 56,
   "metadata": {},
   "outputs": [],
   "source": [
    "teams_20_21=[]\n",
    "teams_19_20=[]\n",
    "teams_18_19=[]\n",
    "teams_17_18=[]\n",
    "teams_16_17=[]\n",
    "teams_15_16=[]\n",
    "teams_14_15=[]\n",
    "teams_13_14=[]"
   ]
  },
  {
   "cell_type": "code",
   "execution_count": 57,
   "metadata": {},
   "outputs": [],
   "source": [
    "Data_20_21=[]\n",
    "Data_19_20=[]\n",
    "Data_18_19=[]\n",
    "Data_17_18=[]\n",
    "Data_16_17=[]\n",
    "Data_15_16=[]\n",
    "Data_14_15=[]\n",
    "Data_13_14=[]"
   ]
  },
  {
   "cell_type": "code",
   "execution_count": 58,
   "metadata": {},
   "outputs": [],
   "source": [
    "def get_teams(year):\n",
    "    html = urlopen(\"https://www.worldfootball.net/attendance/eng-premier-league-\"+year+\"/1/\")\n",
    "    bs = BeautifulSoup(html, 'html.parser')\n",
    "    teams=[]\n",
    "    table=bs.find(\"table\",{'class': 'standard_tabelle'})\n",
    "    for team in table.findAll(\"a\"):\n",
    "        teams.append(team.get_text())\n",
    "    teams=list(filter(None,teams)) \n",
    "    return teams"
   ]
  },
  {
   "cell_type": "code",
   "execution_count": 59,
   "metadata": {},
   "outputs": [],
   "source": [
    "def get_data(year):\n",
    "    html = urlopen(\"https://www.worldfootball.net/attendance/eng-premier-league-\"+year+\"/1/\")\n",
    "    bs = BeautifulSoup(html, 'html.parser')\n",
    "    Data=[]\n",
    "    table=bs.find(\"table\",{'class': 'standard_tabelle'})\n",
    "    for d in table.findAll(\"td\",{'align': 'right'}):\n",
    "        Data.append(d.get_text())\n",
    "    Data=list(filter(None,Data)) \n",
    "    return Data\n"
   ]
  },
  {
   "cell_type": "code",
   "execution_count": 60,
   "metadata": {},
   "outputs": [],
   "source": [
    "teams_20_21=get_teams(\"2020-2021\")\n",
    "teams_19_20=get_teams(\"2019-2020\")\n",
    "teams_18_19=get_teams(\"2018-2019\")\n",
    "teams_17_18=get_teams(\"2017-2018\")\n",
    "teams_16_17=get_teams(\"2016-2017\")\n",
    "teams_15_16=get_teams(\"2015-2016\")\n",
    "teams_14_15=get_teams(\"2014-2015\")\n",
    "teams_13_14=get_teams(\"2013-2014\")"
   ]
  },
  {
   "cell_type": "code",
   "execution_count": 61,
   "metadata": {},
   "outputs": [],
   "source": [
    "Data_20_21=get_data(\"2020-2021\")\n",
    "Data_19_20=get_data(\"2019-2020\")\n",
    "Data_18_19=get_data(\"2018-2019\")\n",
    "Data_17_18=get_data(\"2017-2018\")\n",
    "Data_16_17=get_data(\"2016-2017\")\n",
    "Data_15_16=get_data(\"2015-2016\")\n",
    "Data_14_15=get_data(\"2014-2015\")\n",
    "Data_13_14=get_data(\"2013-2014\")"
   ]
  }
 ],
 "metadata": {
  "interpreter": {
   "hash": "67cab6de4bb7f28beceb6baf7a93915d039ccfca916a131ea354866f2840931f"
  },
  "kernelspec": {
   "display_name": "Python 3",
   "language": "python",
   "name": "python3"
  },
  "language_info": {
   "codemirror_mode": {
    "name": "ipython",
    "version": 3
   },
   "file_extension": ".py",
   "mimetype": "text/x-python",
   "name": "python",
   "nbconvert_exporter": "python",
   "pygments_lexer": "ipython3",
   "version": "3.8.5"
  }
 },
 "nbformat": 4,
 "nbformat_minor": 2
}
